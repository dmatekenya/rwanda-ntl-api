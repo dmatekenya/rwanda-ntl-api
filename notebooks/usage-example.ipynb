{
 "cells": [
  {
   "cell_type": "code",
   "execution_count": 8,
   "id": "aaef2e4f",
   "metadata": {},
   "outputs": [],
   "source": [
    "import requests\n",
    "base_url = \"localhost:8000/\""
   ]
  },
  {
   "cell_type": "code",
   "execution_count": null,
   "id": "64548c28",
   "metadata": {},
   "outputs": [],
   "source": [
    "# SIMPLE EXAMPLE, USE CELLS ENDPOINT\n",
    "endpoint = \"cells\"\n",
    "full_url = f\"{base_url}{endpoint}\"\n",
    "response = requests.get(full_url)\n",
    "data = response.json()\n",
    "print(f\"Found {data['count']} cells in Kigali\")\n"
   ]
  },
  {
   "cell_type": "code",
   "execution_count": null,
   "id": "4a481558",
   "metadata": {},
   "outputs": [],
   "source": [
    "# base_url = \"http://localhost:8000\"\n",
    "\n",
    "\n",
    "# Get cells in Kigali province\n",
    "response = requests.get(f\"{base_url}/cells\", params={\"province\": \"Kigali\"})\n",
    "data = response.json()\n",
    "print(f\"Found {data['count']} cells in Kigali\")\n",
    "\n",
    "# Get population data\n",
    "response = requests.get(f\"{base_url}/population\", params={\"limit\": 5})\n",
    "population_data = response.json()\n",
    "for cell in population_data['data']:\n",
    "    print(f\"{cell['cell_name']}: {cell['general_pop']} people\")"
   ]
  },
  {
   "cell_type": "code",
   "execution_count": null,
   "id": "1b60b181",
   "metadata": {},
   "outputs": [],
   "source": [
    "data"
   ]
  },
  {
   "cell_type": "code",
   "execution_count": null,
   "id": "31f426ff",
   "metadata": {},
   "outputs": [],
   "source": []
  }
 ],
 "metadata": {
  "kernelspec": {
   "display_name": ".venv",
   "language": "python",
   "name": "python3"
  },
  "language_info": {
   "codemirror_mode": {
    "name": "ipython",
    "version": 3
   },
   "file_extension": ".py",
   "mimetype": "text/x-python",
   "name": "python",
   "nbconvert_exporter": "python",
   "pygments_lexer": "ipython3",
   "version": "3.12.7"
  }
 },
 "nbformat": 4,
 "nbformat_minor": 5
}
